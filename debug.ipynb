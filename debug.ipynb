{
 "cells": [
  {
   "cell_type": "code",
   "execution_count": 1,
   "metadata": {},
   "outputs": [],
   "source": [
    "import  numpy as np\n",
    "import json"
   ]
  },
  {
   "cell_type": "code",
   "execution_count": 11,
   "metadata": {},
   "outputs": [
    {
     "data": {
      "text/plain": [
       "213913921.82812425"
      ]
     },
     "execution_count": 11,
     "metadata": {},
     "output_type": "execute_result"
    }
   ],
   "source": [
    "np.random.exponential(100000000)"
   ]
  },
  {
   "cell_type": "code",
   "execution_count": 21,
   "metadata": {},
   "outputs": [],
   "source": [
    "with open('test.json', 'r') as f:\n",
    "    data = json.load(f)\n"
   ]
  },
  {
   "cell_type": "code",
   "execution_count": 22,
   "metadata": {},
   "outputs": [],
   "source": [
    "import scipy.io\n",
    "scipy.io.savemat('test.mat', data)"
   ]
  },
  {
   "cell_type": "code",
   "execution_count": 23,
   "metadata": {},
   "outputs": [],
   "source": [
    "a  =  np.random.rand(3) / 3"
   ]
  },
  {
   "cell_type": "code",
   "execution_count": 24,
   "metadata": {},
   "outputs": [],
   "source": [
    "import numpy as np\n",
    "import pickle\n",
    "import time\n",
    "import matplotlib.pyplot as plt\n",
    "from scipy.stats import multivariate_normal as mvn\n",
    "from scipy.stats import skewnorm\n",
    "from scipy.stats import norm\n",
    "from scipy.sparse import csr_matrix\n",
    "from hkstools.hksimulation.Simulation_Branch_HP import Simulation_Branch_HP\n",
    "from hkstools.Initialization_Cluster_Basis import Initialization_Cluster_Basis\n",
    "from hkstools.Learning_Cluster_Basis import Learning_Cluster_Basis\n",
    "from hkstools.Estimate_Weight import Estimate_Weight\n",
    "from hkstools.Loglike_Basis import Loglike_Basis\n",
    "from hkstools.DistanceSum_MPP import DistanceSum_MPP\n",
    "from hkstools.Kernel_Integration import Kernel_Integration\n",
    "from hkstools.hksimulation.Kernel import Kernel\n",
    "from scipy.special import erf"
   ]
  },
  {
   "cell_type": "code",
   "execution_count": 25,
   "metadata": {},
   "outputs": [
    {
     "name": "stdout",
     "output_type": "stream",
     "text": [
      "01 Simple exponential kernel\n",
      "#seq=10/100, #event=320\n",
      "#seq=20/100, #event=372\n",
      "#seq=30/100, #event=317\n",
      "#seq=40/100, #event=337\n"
     ]
    },
    {
     "ename": "KeyboardInterrupt",
     "evalue": "",
     "output_type": "error",
     "traceback": [
      "\u001b[0;31m---------------------------------------------------------------------------\u001b[0m",
      "\u001b[0;31mKeyboardInterrupt\u001b[0m                         Traceback (most recent call last)",
      "Input \u001b[0;32mIn [25]\u001b[0m, in \u001b[0;36m<cell line: 34>\u001b[0;34m()\u001b[0m\n\u001b[1;32m     32\u001b[0m para1[\u001b[38;5;124m'\u001b[39m\u001b[38;5;124mA\u001b[39m\u001b[38;5;124m'\u001b[39m] \u001b[38;5;241m=\u001b[39m \u001b[38;5;241m0.5\u001b[39m \u001b[38;5;241m*\u001b[39m para1[\u001b[38;5;124m'\u001b[39m\u001b[38;5;124mA\u001b[39m\u001b[38;5;124m'\u001b[39m] \u001b[38;5;241m/\u001b[39m max_eigval\n\u001b[1;32m     33\u001b[0m para1[\u001b[38;5;124m'\u001b[39m\u001b[38;5;124mw\u001b[39m\u001b[38;5;124m'\u001b[39m] \u001b[38;5;241m=\u001b[39m \u001b[38;5;241m0.5\u001b[39m\n\u001b[0;32m---> 34\u001b[0m Seqs1 \u001b[38;5;241m=\u001b[39m \u001b[43mSimulation_Branch_HP\u001b[49m\u001b[43m(\u001b[49m\u001b[43mpara1\u001b[49m\u001b[43m,\u001b[49m\u001b[43m \u001b[49m\u001b[43moptions\u001b[49m\u001b[43m)\u001b[49m\n\u001b[1;32m     35\u001b[0m \u001b[38;5;66;03m# First02 cluster: Hawkes process with exponential kernel\u001b[39;00m\n\u001b[1;32m     36\u001b[0m \u001b[38;5;28mprint\u001b[39m(\u001b[38;5;124m'\u001b[39m\u001b[38;5;124m02 Simple exponential kernel\u001b[39m\u001b[38;5;124m'\u001b[39m)\n",
      "File \u001b[0;32m~/mcmcbmm/hkstools/hksimulation/Simulation_Branch_HP.py:42\u001b[0m, in \u001b[0;36mSimulation_Branch_HP\u001b[0;34m(para, options)\u001b[0m\n\u001b[1;32m     40\u001b[0m s \u001b[38;5;241m=\u001b[39m np\u001b[38;5;241m.\u001b[39mrandom\u001b[38;5;241m.\u001b[39mexponential(\u001b[38;5;241m1\u001b[39m \u001b[38;5;241m/\u001b[39m mt)\n\u001b[1;32m     41\u001b[0m U \u001b[38;5;241m=\u001b[39m np\u001b[38;5;241m.\u001b[39mrandom\u001b[38;5;241m.\u001b[39mrand()\n\u001b[0;32m---> 42\u001b[0m phi_ts \u001b[38;5;241m=\u001b[39m \u001b[43mImpactFunction\u001b[49m\u001b[43m(\u001b[49m\u001b[43mui\u001b[49m\u001b[43m,\u001b[49m\u001b[43m \u001b[49m\u001b[43m[\u001b[49m\u001b[43mt\u001b[49m\u001b[43m \u001b[49m\u001b[38;5;241;43m+\u001b[39;49m\u001b[43m \u001b[49m\u001b[43ms\u001b[49m\u001b[43m]\u001b[49m\u001b[43m,\u001b[49m\u001b[43m \u001b[49m\u001b[43mpara\u001b[49m\u001b[43m)\u001b[49m\n\u001b[1;32m     43\u001b[0m mts \u001b[38;5;241m=\u001b[39m np\u001b[38;5;241m.\u001b[39msum(phi_ts)\n\u001b[1;32m     45\u001b[0m \u001b[38;5;28;01mif\u001b[39;00m t \u001b[38;5;241m+\u001b[39m s \u001b[38;5;241m>\u001b[39m options[\u001b[38;5;124m'\u001b[39m\u001b[38;5;124mTmax\u001b[39m\u001b[38;5;124m'\u001b[39m] \u001b[38;5;241m-\u001b[39m ti \u001b[38;5;129;01mor\u001b[39;00m U \u001b[38;5;241m>\u001b[39m mts \u001b[38;5;241m/\u001b[39m mt:\n",
      "File \u001b[0;32m~/mcmcbmm/hkstools/hksimulation/ImpactFunction.py:8\u001b[0m, in \u001b[0;36mImpactFunction\u001b[0;34m(u, dt, para)\u001b[0m\n\u001b[1;32m      6\u001b[0m \u001b[38;5;28;01mdef\u001b[39;00m \u001b[38;5;21mImpactFunction\u001b[39m(u, dt, para):\n\u001b[1;32m      7\u001b[0m     A \u001b[38;5;241m=\u001b[39m np\u001b[38;5;241m.\u001b[39mreshape(para[\u001b[38;5;124m'\u001b[39m\u001b[38;5;124mA\u001b[39m\u001b[38;5;124m'\u001b[39m][u, :, :], (para[\u001b[38;5;124m'\u001b[39m\u001b[38;5;124mA\u001b[39m\u001b[38;5;124m'\u001b[39m]\u001b[38;5;241m.\u001b[39mshape[\u001b[38;5;241m1\u001b[39m], para[\u001b[38;5;124m'\u001b[39m\u001b[38;5;124mA\u001b[39m\u001b[38;5;124m'\u001b[39m]\u001b[38;5;241m.\u001b[39mshape[\u001b[38;5;241m2\u001b[39m]))\n\u001b[0;32m----> 8\u001b[0m     basis \u001b[38;5;241m=\u001b[39m \u001b[43mKernel\u001b[49m\u001b[43m(\u001b[49m\u001b[43mdt\u001b[49m\u001b[43m,\u001b[49m\u001b[43m \u001b[49m\u001b[43mpara\u001b[49m\u001b[43m)\u001b[49m\n\u001b[1;32m     10\u001b[0m     \u001b[38;5;66;03m# 扩展 basis 为与 A 具有相同形状\u001b[39;00m\n\u001b[1;32m     11\u001b[0m     \u001b[38;5;28;01mif\u001b[39;00m \u001b[38;5;28mlen\u001b[39m(para[\u001b[38;5;124m'\u001b[39m\u001b[38;5;124mlandmark\u001b[39m\u001b[38;5;124m'\u001b[39m]) \u001b[38;5;241m==\u001b[39m \u001b[38;5;241m1\u001b[39m:\n",
      "File \u001b[0;32m~/mcmcbmm/hkstools/hksimulation/Kernel.py:22\u001b[0m, in \u001b[0;36mKernel\u001b[0;34m(dt, para)\u001b[0m\n\u001b[1;32m     20\u001b[0m landmarks \u001b[38;5;241m=\u001b[39m np\u001b[38;5;241m.\u001b[39marray(para[\u001b[38;5;124m'\u001b[39m\u001b[38;5;124mlandmark\u001b[39m\u001b[38;5;124m'\u001b[39m])[np\u001b[38;5;241m.\u001b[39mnewaxis, :]\n\u001b[1;32m     21\u001b[0m \u001b[38;5;66;03m# Tile dt to have the same number of columns as the number of landmarks\u001b[39;00m\n\u001b[0;32m---> 22\u001b[0m dt_tiled \u001b[38;5;241m=\u001b[39m np\u001b[38;5;241m.\u001b[39mtile(\u001b[43mdt\u001b[49m\u001b[43m[\u001b[49m\u001b[43m:\u001b[49m\u001b[43m,\u001b[49m\u001b[43m \u001b[49m\u001b[43mnp\u001b[49m\u001b[38;5;241;43m.\u001b[39;49m\u001b[43mnewaxis\u001b[49m\u001b[43m]\u001b[49m, (\u001b[38;5;241m1\u001b[39m, \u001b[38;5;28mlen\u001b[39m(para[\u001b[38;5;124m'\u001b[39m\u001b[38;5;124mlandmark\u001b[39m\u001b[38;5;124m'\u001b[39m])))\n\u001b[1;32m     23\u001b[0m \u001b[38;5;66;03m# Calculate the distance\u001b[39;00m\n\u001b[1;32m     24\u001b[0m distance \u001b[38;5;241m=\u001b[39m dt_tiled \u001b[38;5;241m-\u001b[39m landmarks\n",
      "\u001b[0;31mKeyboardInterrupt\u001b[0m: "
     ]
    }
   ],
   "source": [
    "np.random.seed(0)\n",
    "\n",
    "###################simulation hks data#######################\n",
    "options = {\n",
    "    'N': 100, 'Nmax': 100, 'Tmax': 50, 'tstep': 0.1,\n",
    "    'dt': [0.1], 'M': 250, 'GenerationNum': 10\n",
    "}\n",
    "D = 3   # event type个数\n",
    "K = 2  # cluster个数\n",
    "nTest = 5\n",
    "nSeg = 5\n",
    "nNum = options['N'] / nSeg\n",
    "mucenter = np.random.rand(D) / D\n",
    "mudelta = 0.05\n",
    "# First01 cluster: Hawkes process with exponential kernel\n",
    "\n",
    "print('01 Simple exponential kernel')\n",
    "para1 = {'kernel': 'exp', 'landmark': [0]}\n",
    "para1['mu'] = mucenter+2\n",
    "L = len(para1['landmark'])\n",
    "para1['A'] = np.zeros((D, D, L))\n",
    "for l in range(1, L + 1):\n",
    "    para1['A'][:, :, l - 1] = (0.7**l) * np.random.rand(D,D)\n",
    "eigvals_list = []\n",
    "eigvecs_list = []\n",
    "for l in range(L):\n",
    "    eigvals, eigvecs = np.linalg.eigh(para1['A'][:, :, l])\n",
    "    eigvals_list.append(eigvals)\n",
    "    eigvecs_list.append(eigvecs)\n",
    "all_eigvals = np.concatenate(eigvals_list)\n",
    "max_eigval = np.max(all_eigvals)\n",
    "para1['A'] = 0.5 * para1['A'] / max_eigval\n",
    "para1['w'] = 0.5\n",
    "Seqs1 = Simulation_Branch_HP(para1, options)\n",
    "# First02 cluster: Hawkes process with exponential kernel\n",
    "print('02 Simple exponential kernel')\n",
    "para2 = {'kernel': 'exp', 'landmark': [0]}\n",
    "para2['mu'] = mucenter\n",
    "L = len(para2['landmark'])\n",
    "para2['A'] = np.zeros((D, D, L))\n",
    "for l in range(1, L + 1):\n",
    "    para2['A'][:, :, l - 1] = (0.7**l) * np.random.rand(D,D)\n",
    "eigvals_list = []\n",
    "eigvecs_list = []\n",
    "for l in range(L):\n",
    "    eigvals, eigvecs = np.linalg.eigh(para2['A'][:, :, l])\n",
    "    eigvals_list.append(eigvals)\n",
    "    eigvecs_list.append(eigvecs)\n",
    "all_eigvals = np.concatenate(eigvals_list)\n",
    "max_eigval = np.max(all_eigvals)\n",
    "para2['A'] = 0.5 * para2['A'] / max_eigval\n",
    "para2['w'] = 0.5\n",
    "Seqs2 = Simulation_Branch_HP(para2, options)\n",
    "\n",
    "\n",
    "'''\n",
    "# Second cluster: Hawkes process with Gaussian kernel\n",
    "print('Complicated gaussian kernel')\n",
    "para2 = {'kernel': 'gauss', 'landmark': np.arange(0, 13, 3)}\n",
    "para2['mu'] = np.random.rand(D) / D\n",
    "L = len(para2['landmark'])\n",
    "para2['A'] = np.zeros((D, D, L))\n",
    "for l in range(1, L + 1):\n",
    "    para2['A'][:, :, l - 1] = (0.9**l) * np.random.rand(D,D)\n",
    "para2['A'] = 0.25 * para2['A'] / np.max(np.abs(np.linalg.eigh(np.sum(para2['A'], axis=2))[0]))\n",
    "para2['A'] = np.reshape(para2['A'], (D, L, D))\n",
    "#import pdb;pdb.set_trace()\n",
    "para2['w'] = 1\n",
    "Seqs2 = Simulation_Branch_HP(para2, options)\n",
    "\n",
    "'''\n",
    "SeqsMix = Seqs1 + Seqs2"
   ]
  },
  {
   "cell_type": "code",
   "execution_count": null,
   "metadata": {},
   "outputs": [
    {
     "data": {
      "text/plain": [
       "(356,)"
      ]
     },
     "execution_count": 12,
     "metadata": {},
     "output_type": "execute_result"
    }
   ],
   "source": [
    "Seqs1[5]['Time'].shape"
   ]
  },
  {
   "cell_type": "code",
   "execution_count": null,
   "metadata": {},
   "outputs": [
    {
     "data": {
      "text/plain": [
       "(39,)"
      ]
     },
     "execution_count": 11,
     "metadata": {},
     "output_type": "execute_result"
    }
   ],
   "source": [
    "Seqs2[5]['Time'].shape"
   ]
  },
  {
   "cell_type": "code",
   "execution_count": null,
   "metadata": {},
   "outputs": [
    {
     "data": {
      "text/plain": [
       "array([2.01108838, 2.03467399, 2.28296196])"
      ]
     },
     "execution_count": 5,
     "metadata": {},
     "output_type": "execute_result"
    }
   ],
   "source": [
    "a+2"
   ]
  },
  {
   "cell_type": "code",
   "execution_count": 2,
   "metadata": {},
   "outputs": [],
   "source": [
    "with open('SeqsMix.json', 'r') as file:\n",
    "    SeqsMix = json.load(file)   \n",
    "for c in range(len(SeqsMix)):\n",
    "    SeqsMix[c]['Time'] = np.array(SeqsMix[c]['Time'])\n",
    "    SeqsMix[c]['Mark'] = np.array(SeqsMix[c]['Mark'])\n",
    "    SeqsMix[c]['Mark'] = SeqsMix[c]['Mark'] - 1"
   ]
  },
  {
   "cell_type": "code",
   "execution_count": 11,
   "metadata": {},
   "outputs": [],
   "source": [
    "with open('test.json', 'r') as file:\n",
    "    SeqsMix = json.load(file)   \n",
    "SeqsMix['Time'] = np.array(SeqsMix['Time'])\n",
    "SeqsMix['Mark'] = np.array(SeqsMix['Mark'])\n",
    "SeqsMix=[SeqsMix]"
   ]
  },
  {
   "cell_type": "code",
   "execution_count": 13,
   "metadata": {},
   "outputs": [
    {
     "data": {
      "text/plain": [
       "366"
      ]
     },
     "execution_count": 13,
     "metadata": {},
     "output_type": "execute_result"
    }
   ],
   "source": [
    "len(SeqsMix[0]['Time'])"
   ]
  },
  {
   "cell_type": "code",
   "execution_count": 3,
   "metadata": {},
   "outputs": [],
   "source": [
    "from HawkesModel import HawkesModel\n",
    "hakes_model = HawkesModel(SeqsMix,2,Tmax=50)"
   ]
  },
  {
   "cell_type": "code",
   "execution_count": 4,
   "metadata": {},
   "outputs": [
    {
     "data": {
      "text/plain": [
       "200"
      ]
     },
     "execution_count": 4,
     "metadata": {},
     "output_type": "execute_result"
    }
   ],
   "source": [
    "len(hakes_model.Seqs)"
   ]
  },
  {
   "cell_type": "code",
   "execution_count": 5,
   "metadata": {},
   "outputs": [],
   "source": [
    "N = len(hakes_model.Seqs)\n",
    "D = np.zeros(N)\n",
    "for i in range(N):\n",
    "    D[i] = np.max(hakes_model.Seqs[i]['Mark'])\n",
    "D = int(np.max(D)) + 1\n",
    "\n",
    "\n",
    "sigma = np.zeros(N)\n",
    "Tmax = np.zeros(N)\n",
    "\n",
    "for i in range(N):\n",
    "    sigma[i] = ((4 * np.std(hakes_model.Seqs[i]['Time'])**5) / (3 * len(hakes_model.Seqs[i]['Time'])))**0.2\n",
    "    Tmax[i] = hakes_model.Seqs[i]['Time'][-1] + np.finfo(float).eps\n",
    "Tmax = np.mean(Tmax)\n",
    "\n",
    "hakes_model.kernel = 'gauss'  # 核函数类型\n",
    "#hakes_model.w = np.mean(sigma)  # 带宽\n",
    "hakes_model.w = 7.064599620296471\n",
    "#hakes_model.landmark = hakes_model.w * np.arange(0, np.ceil(Tmax / hakes_model.w))  # 地标\n",
    "hakes_model.landmark = [ 0.        ,  7.06459962, 14.12919924, 21.19379886, 28.25839848,35.3229981 , 42.38759772]\n",
    "hakes_model.Tmax= 50\n",
    "\n",
    "hakes_model.K = hakes_model.clusternum\n",
    "hakes_model.D = D\n",
    "hakes_model.alpha = 1\n",
    "hakes_model.M = len(hakes_model.landmark)\n",
    "hakes_model.beta_a = np.ones((D, hakes_model.M, hakes_model.K, D)) / (hakes_model.M * D**2)   # kernel前的系数 accidk D M K D\n",
    "hakes_model.beta_na = np.ones((D, hakes_model.M, 1, D)) / (hakes_model.M * D**2)\n",
    "hakes_model.b_a = np.ones((D, hakes_model.K)) / D     # base intensity shape = [event_type , k]\n",
    "hakes_model.b_na = np.ones((D, 1))/D\n",
    "label = np.concatenate([np.zeros(100),np.ones(100)])\n",
    "hakes_model.label = label"
   ]
  },
  {
   "cell_type": "code",
   "execution_count": 6,
   "metadata": {},
   "outputs": [
    {
     "data": {
      "text/plain": [
       "3"
      ]
     },
     "execution_count": 6,
     "metadata": {},
     "output_type": "execute_result"
    }
   ],
   "source": [
    "hakes_model.D"
   ]
  },
  {
   "cell_type": "code",
   "execution_count": 41,
   "metadata": {},
   "outputs": [
    {
     "data": {
      "text/plain": [
       "7.064599620296471"
      ]
     },
     "execution_count": 41,
     "metadata": {},
     "output_type": "execute_result"
    }
   ],
   "source": [
    "hakes_model.w"
   ]
  },
  {
   "cell_type": "code",
   "execution_count": 23,
   "metadata": {},
   "outputs": [
    {
     "data": {
      "text/plain": [
       "'gauss'"
      ]
     },
     "execution_count": 23,
     "metadata": {},
     "output_type": "execute_result"
    }
   ],
   "source": [
    "hakes_model.kernel"
   ]
  },
  {
   "cell_type": "code",
   "execution_count": 40,
   "metadata": {},
   "outputs": [
    {
     "data": {
      "text/plain": [
       "[0.0,\n",
       " 7.06459962,\n",
       " 14.12919924,\n",
       " 21.19379886,\n",
       " 28.25839848,\n",
       " 35.3229981,\n",
       " 42.38759772]"
      ]
     },
     "execution_count": 40,
     "metadata": {},
     "output_type": "execute_result"
    }
   ],
   "source": [
    "hakes_model.landmark"
   ]
  },
  {
   "cell_type": "code",
   "execution_count": 43,
   "metadata": {},
   "outputs": [
    {
     "data": {
      "text/plain": [
       "array([[[0.01587302, 0.01587302, 0.01587302],\n",
       "        [0.01587302, 0.01587302, 0.01587302],\n",
       "        [0.01587302, 0.01587302, 0.01587302],\n",
       "        [0.01587302, 0.01587302, 0.01587302],\n",
       "        [0.01587302, 0.01587302, 0.01587302],\n",
       "        [0.01587302, 0.01587302, 0.01587302],\n",
       "        [0.01587302, 0.01587302, 0.01587302]],\n",
       "\n",
       "       [[0.01587302, 0.01587302, 0.01587302],\n",
       "        [0.01587302, 0.01587302, 0.01587302],\n",
       "        [0.01587302, 0.01587302, 0.01587302],\n",
       "        [0.01587302, 0.01587302, 0.01587302],\n",
       "        [0.01587302, 0.01587302, 0.01587302],\n",
       "        [0.01587302, 0.01587302, 0.01587302],\n",
       "        [0.01587302, 0.01587302, 0.01587302]],\n",
       "\n",
       "       [[0.01587302, 0.01587302, 0.01587302],\n",
       "        [0.01587302, 0.01587302, 0.01587302],\n",
       "        [0.01587302, 0.01587302, 0.01587302],\n",
       "        [0.01587302, 0.01587302, 0.01587302],\n",
       "        [0.01587302, 0.01587302, 0.01587302],\n",
       "        [0.01587302, 0.01587302, 0.01587302],\n",
       "        [0.01587302, 0.01587302, 0.01587302]]])"
      ]
     },
     "execution_count": 43,
     "metadata": {},
     "output_type": "execute_result"
    }
   ],
   "source": [
    "hakes_model.beta_a[:,:,0,:]"
   ]
  },
  {
   "cell_type": "code",
   "execution_count": 7,
   "metadata": {},
   "outputs": [
    {
     "data": {
      "text/plain": [
       "array([[0.33333333, 0.33333333],\n",
       "       [0.33333333, 0.33333333],\n",
       "       [0.33333333, 0.33333333]])"
      ]
     },
     "execution_count": 7,
     "metadata": {},
     "output_type": "execute_result"
    }
   ],
   "source": [
    "hakes_model.b_a"
   ]
  },
  {
   "cell_type": "code",
   "execution_count": 8,
   "metadata": {},
   "outputs": [
    {
     "data": {
      "text/plain": [
       "(array([ 0,  1,  2,  3,  4,  5,  6,  7,  8,  9, 10, 11, 12, 13, 14, 15, 16,\n",
       "        17, 18, 19, 20, 21, 22, 23, 24, 25, 26, 27, 28, 29, 30, 31, 32, 33,\n",
       "        34, 35, 36, 37, 38, 39, 40, 41, 42, 43, 44, 45, 46, 47, 48, 49, 50,\n",
       "        51, 52, 53, 54, 55, 56, 57, 58, 59, 60, 61, 62, 63, 64, 65, 66, 67,\n",
       "        68, 69, 70, 71, 72, 73, 74, 75, 76, 77, 78, 79, 80, 81, 82, 83, 84,\n",
       "        85, 86, 87, 88, 89, 90, 91, 92, 93, 94, 95, 96, 97, 98, 99]),)"
      ]
     },
     "execution_count": 8,
     "metadata": {},
     "output_type": "execute_result"
    }
   ],
   "source": [
    "np.where(hakes_model.label==0)"
   ]
  },
  {
   "cell_type": "code",
   "execution_count": 9,
   "metadata": {},
   "outputs": [
    {
     "ename": "IndexError",
     "evalue": "tuple index out of range",
     "output_type": "error",
     "traceback": [
      "\u001b[0;31m---------------------------------------------------------------------------\u001b[0m",
      "\u001b[0;31mIndexError\u001b[0m                                Traceback (most recent call last)",
      "Input \u001b[0;32mIn [9]\u001b[0m, in \u001b[0;36m<cell line: 1>\u001b[0;34m()\u001b[0m\n\u001b[0;32m----> 1\u001b[0m \u001b[43mnp\u001b[49m\u001b[38;5;241;43m.\u001b[39;49m\u001b[43mwhere\u001b[49m\u001b[43m(\u001b[49m\u001b[43mlabel\u001b[49m\u001b[38;5;241;43m==\u001b[39;49m\u001b[38;5;241;43m0\u001b[39;49m\u001b[43m)\u001b[49m\u001b[43m[\u001b[49m\u001b[38;5;241;43m1\u001b[39;49m\u001b[43m]\u001b[49m\n",
      "\u001b[0;31mIndexError\u001b[0m: tuple index out of range"
     ]
    }
   ],
   "source": [
    "np.where(label==0)[1]"
   ]
  },
  {
   "cell_type": "code",
   "execution_count": 10,
   "metadata": {},
   "outputs": [
    {
     "ename": "IndexError",
     "evalue": "tuple index out of range",
     "output_type": "error",
     "traceback": [
      "\u001b[0;31m---------------------------------------------------------------------------\u001b[0m",
      "\u001b[0;31mIndexError\u001b[0m                                Traceback (most recent call last)",
      "Input \u001b[0;32mIn [10]\u001b[0m, in \u001b[0;36m<cell line: 1>\u001b[0;34m()\u001b[0m\n\u001b[0;32m----> 1\u001b[0m \u001b[43mhakes_model\u001b[49m\u001b[38;5;241;43m.\u001b[39;49m\u001b[43mLoglike\u001b[49m\u001b[43m(\u001b[49m\u001b[38;5;241;43m0\u001b[39;49m\u001b[43m)\u001b[49m\n",
      "File \u001b[0;32m~/mcmcbmm/HawkesModel.py:127\u001b[0m, in \u001b[0;36mHawkesModel.Loglike\u001b[0;34m(self, cluster_idx, mu_prop, A_prop, index_prop)\u001b[0m\n\u001b[1;32m    124\u001b[0m \u001b[38;5;28;01melse\u001b[39;00m:\n\u001b[1;32m    125\u001b[0m     indexest \u001b[38;5;241m=\u001b[39m index_prop\n\u001b[0;32m--> 127\u001b[0m label_k_indices \u001b[38;5;241m=\u001b[39m \u001b[43mnp\u001b[49m\u001b[38;5;241;43m.\u001b[39;49m\u001b[43mwhere\u001b[49m\u001b[43m(\u001b[49m\u001b[43mindexest\u001b[49m\u001b[43m \u001b[49m\u001b[38;5;241;43m==\u001b[39;49m\u001b[43m \u001b[49m\u001b[43mcluster_idx\u001b[49m\u001b[43m)\u001b[49m\u001b[43m[\u001b[49m\u001b[38;5;241;43m1\u001b[39;49m\u001b[43m]\u001b[49m\n\u001b[1;32m    128\u001b[0m \u001b[38;5;28mprint\u001b[39m(label_k_indices)\n\u001b[1;32m    129\u001b[0m label_k_seqs \u001b[38;5;241m=\u001b[39m [\u001b[38;5;28mself\u001b[39m\u001b[38;5;241m.\u001b[39mSeqs[idx] \u001b[38;5;28;01mfor\u001b[39;00m idx \u001b[38;5;129;01min\u001b[39;00m label_k_indices]\n",
      "\u001b[0;31mIndexError\u001b[0m: tuple index out of range"
     ]
    }
   ],
   "source": [
    "hakes_model.Loglike(0)"
   ]
  },
  {
   "cell_type": "code",
   "execution_count": 12,
   "metadata": {},
   "outputs": [],
   "source": [
    "from scipy.io import savemat\n",
    "data_dict = {'mylist': SeqsMix}\n",
    "savemat('list.mat', data_dict)"
   ]
  },
  {
   "cell_type": "code",
   "execution_count": 13,
   "metadata": {},
   "outputs": [],
   "source": [
    "fields = {key for d in SeqsMix for key in d.keys()}\n",
    "\n",
    "# 然后，确保每个字典都有所有的键\n",
    "structured_data = [{field: d.get(field, None) for field in fields} for d in SeqsMix]\n",
    "\n",
    "# 保存为.mat文件\n",
    "savemat('data.mat', {'my_struct_array': structured_data})"
   ]
  },
  {
   "cell_type": "code",
   "execution_count": null,
   "metadata": {},
   "outputs": [
    {
     "data": {
      "text/plain": [
       "[0.0,\n",
       " 7.06459962,\n",
       " 14.12919924,\n",
       " 21.19379886,\n",
       " 28.25839848,\n",
       " 35.3229981,\n",
       " 42.38759772]"
      ]
     },
     "execution_count": 6,
     "metadata": {},
     "output_type": "execute_result"
    }
   ],
   "source": [
    "hakes_model.landmark"
   ]
  },
  {
   "cell_type": "code",
   "execution_count": 10,
   "metadata": {},
   "outputs": [
    {
     "data": {
      "text/plain": [
       "-125.40594078305216"
      ]
     },
     "execution_count": 10,
     "metadata": {},
     "output_type": "execute_result"
    }
   ],
   "source": [
    "hakes_model.loglike_one_a(SeqsMix[0],0)"
   ]
  },
  {
   "cell_type": "code",
   "execution_count": null,
   "metadata": {},
   "outputs": [
    {
     "data": {
      "text/plain": [
       "7.064599620296471"
      ]
     },
     "execution_count": 8,
     "metadata": {},
     "output_type": "execute_result"
    }
   ],
   "source": [
    "hakes_model.w"
   ]
  },
  {
   "cell_type": "code",
   "execution_count": null,
   "metadata": {},
   "outputs": [],
   "source": [
    "np.where(np.array)"
   ]
  },
  {
   "cell_type": "code",
   "execution_count": 12,
   "metadata": {},
   "outputs": [
    {
     "data": {
      "text/plain": [
       "array([[[1., 1., 1.],\n",
       "        [1., 1., 1.],\n",
       "        [1., 1., 1.],\n",
       "        [1., 1., 1.],\n",
       "        [1., 1., 1.],\n",
       "        [1., 1., 1.],\n",
       "        [1., 1., 1.],\n",
       "        [1., 1., 1.]],\n",
       "\n",
       "       [[1., 1., 1.],\n",
       "        [1., 1., 1.],\n",
       "        [1., 1., 1.],\n",
       "        [1., 1., 1.],\n",
       "        [1., 1., 1.],\n",
       "        [1., 1., 1.],\n",
       "        [1., 1., 1.],\n",
       "        [1., 1., 1.]],\n",
       "\n",
       "       [[1., 1., 1.],\n",
       "        [1., 1., 1.],\n",
       "        [1., 1., 1.],\n",
       "        [1., 1., 1.],\n",
       "        [1., 1., 1.],\n",
       "        [1., 1., 1.],\n",
       "        [1., 1., 1.],\n",
       "        [1., 1., 1.]]])"
      ]
     },
     "execution_count": 12,
     "metadata": {},
     "output_type": "execute_result"
    }
   ],
   "source": [
    "np.ones((3,8,3))"
   ]
  },
  {
   "cell_type": "code",
   "execution_count": 14,
   "metadata": {},
   "outputs": [],
   "source": [
    "a=[0.1061166 ,  0.22921302,  0.30268615,  0.37942205,  0.82141034,\n",
    "        1.03059649,  1.14252087,  1.15234558,  1.15506899,  1.35584022,\n",
    "        1.86853647,  1.9510604 ,  1.96784365,  1.98847428,  2.08685125,\n",
    "        2.12782196,  2.20903295,  2.21156209,  2.33782832,  2.72155033,\n",
    "        2.78095279,  2.94043383,  3.0869555 ,  3.11844972,  3.16897799,\n",
    "        3.28156836,  3.87550134,  3.90674154,  4.04790724,  4.13163278,\n",
    "        4.15471644,  4.29712607,  4.32631015,  4.5556877 ,  4.79833023,\n",
    "        5.29820109,  5.79979138,  5.97902408,  6.02334544,  6.07016892,\n",
    "        6.12119572,  6.13003537,  6.24151504,  6.3402829 ,  6.45466899,\n",
    "        6.50581035,  6.52465445,  6.57020833,  6.68795887,  6.92339102,\n",
    "        7.0744089 ,  7.25157662,  7.28971275,  7.4092582 ,  7.4429142 ,\n",
    "        7.52193074,  7.68222921,  7.90635217,  8.19028542,  8.47492948,\n",
    "        8.64718405,  9.06391315,  9.13743262,  9.14001659,  9.28392595,\n",
    "        9.41224262,  9.43165249,  9.54417095,  9.65804824,  9.79882819,\n",
    "       10.10131272, 10.17764093, 10.39642727, 10.41050896, 10.57752329,\n",
    "       10.59910597, 10.62274938, 10.64037388, 10.85993642, 10.92965243,\n",
    "       11.08904424, 11.25975546, 11.75441683, 11.75598793, 11.93056105,\n",
    "       12.02871186, 12.05846376, 12.26891879, 12.3254064 , 12.48791264,\n",
    "       12.51190695, 12.62669677, 12.9895432 , 13.09182049, 13.26645854,\n",
    "       13.33417389, 13.36164483, 13.54102448, 13.57542619, 13.58339698,\n",
    "       13.63321962, 13.69647513, 13.69980691, 13.85147871, 13.95402801,\n",
    "       14.57264837, 14.7177023 , 14.72048459, 14.77190962, 14.89024321,\n",
    "       15.02244378, 15.06505373, 15.09243343, 15.24751521, 15.64011257,\n",
    "       15.67917276, 15.77653645, 15.80753979, 15.87002998, 15.91339212,\n",
    "       16.17926402, 16.27640053, 16.44464222, 16.55575932, 16.57662275,\n",
    "       16.63521681, 16.82849078, 17.14055637, 17.24767527, 17.68347478,\n",
    "       17.72021183, 17.72242065, 17.87020862, 17.91432993, 17.9231422 ,\n",
    "       18.42901207, 18.48404271, 18.51918633, 18.89740502, 19.03013351,\n",
    "       19.07636728, 19.20463554, 19.26150698, 19.79590029, 19.88762609,\n",
    "       19.9489316 , 20.17914938, 20.27462209, 20.2883512 , 20.76954333,\n",
    "       21.08559501, 21.13961939, 21.20934841, 21.22829848, 21.4007182 ,\n",
    "       21.59701208, 21.60806039, 21.75671204, 21.82946641, 22.09214075,\n",
    "       22.13416209, 22.14175763, 22.18228717, 22.33558602, 22.3800398 ,\n",
    "       22.4066872 , 22.41449092, 22.61558629, 22.65562963, 22.77373105,\n",
    "       22.83551639, 22.91763896, 23.13209467, 23.22963405, 23.34452305,\n",
    "       23.4828224 , 23.55786576, 23.66029954, 23.70365565, 23.77014796,\n",
    "       23.79777265, 23.90241759, 24.18740714, 24.35913541, 24.67165136,\n",
    "       24.83201319, 25.02051763, 25.05711277, 25.26932025, 25.35101965,\n",
    "       25.61101657, 26.01554225, 26.24475149, 26.47011615, 26.60228675,\n",
    "       26.61092218, 26.65083263, 26.65534888, 26.71389247, 26.71608758,\n",
    "       26.78447784, 26.79846888, 27.06997477, 27.12271685, 27.24979985,\n",
    "       27.25189707, 27.26129733, 27.2946241 , 27.3133542 , 27.3297162 ,\n",
    "       27.81765779, 27.88779523, 28.02355758, 28.62993412, 28.83379264,\n",
    "       28.87063333, 28.90829289, 29.0054099 , 29.11327386, 29.27675816,\n",
    "       29.33637681, 29.68168696, 29.71699126, 29.9419537 , 30.40500113,\n",
    "       30.45190345, 30.49015799, 30.89215377, 31.04821187, 31.22314027,\n",
    "       31.26554755, 31.32806463, 31.36427207, 31.44381206, 31.68748223,\n",
    "       31.78054057, 31.91455599, 32.29014422, 32.45048519, 33.14183582,\n",
    "       33.15163667, 33.17367574, 33.19244176, 33.25678512, 33.71486824,\n",
    "       33.75771361, 34.06047496, 34.16755987, 34.24859784, 34.28667369,\n",
    "       34.33622246, 34.43547289, 34.48956974, 34.75394475, 34.7929515 ,\n",
    "       34.80768695, 34.98734679, 35.11719727, 35.14777289, 35.29814095,\n",
    "       35.40274851, 35.40684208, 35.40789746, 35.50871963, 35.52122035,\n",
    "       35.52450217, 35.6542985 , 35.68568595, 35.80044791, 35.94906271,\n",
    "       35.94942363, 36.07172654, 36.51047974, 36.66945517, 36.76451604,\n",
    "       36.97313691, 37.0509316 , 37.20880197, 37.2432632 , 37.37343547,\n",
    "       37.50203544, 38.02756326, 38.1207104 , 38.2246484 , 38.46082885,\n",
    "       38.79723117, 38.82284392, 39.22811479, 39.25143616, 39.33027653,\n",
    "       39.35356024, 39.43093218, 39.58989915, 39.59528869, 39.60369182,\n",
    "       39.78324212, 39.93211127, 39.98051755, 40.04047933, 40.10384059,\n",
    "       40.12943498, 40.28150491, 40.40611563, 40.45065897, 40.54700594,\n",
    "       40.62830756, 41.09806106, 41.11163648, 41.2308506 , 41.29835246,\n",
    "       41.35617906, 41.49150692, 41.99006006, 42.18290107, 42.23739676,\n",
    "       42.24602124, 42.32150518, 42.51926163, 42.53590071, 42.65468122,\n",
    "       42.9059965 , 43.45265446, 43.51646466, 43.67046127, 43.93458864,\n",
    "       44.02641675, 44.06328178, 44.32503155, 44.40983828, 44.49127217,\n",
    "       44.56475723, 44.58139557, 44.65035116, 44.798733  , 44.96552615,\n",
    "       45.03344995, 45.16055475, 45.39098933, 45.56377304, 45.57938238,\n",
    "       45.64869197, 45.65274637, 45.66825193, 45.83021936, 46.25657386,\n",
    "       46.52572903, 46.62780091, 46.72683075, 46.75502024, 46.85236984,\n",
    "       46.91465694, 46.92585161, 46.95921871, 47.00027722, 47.00932467,\n",
    "       47.03290876, 47.23088397, 47.25308266, 47.32873175, 47.38605471,\n",
    "       47.57143995, 47.57535728, 47.64182612, 47.79832182, 47.98820596,\n",
    "       48.08090939, 48.14144159, 48.23279093, 48.27609984, 48.29274795,\n",
    "       48.29913958, 48.29965529, 48.4261868 , 48.71101266, 49.16340343,\n",
    "       49.21103701, 49.56717366, 49.60862594, 49.67063737, 49.70858406,\n",
    "       49.96957318]"
   ]
  },
  {
   "cell_type": "code",
   "execution_count": 16,
   "metadata": {},
   "outputs": [
    {
     "data": {
      "text/plain": [
       "381"
      ]
     },
     "execution_count": 16,
     "metadata": {},
     "output_type": "execute_result"
    }
   ],
   "source": [
    "len(a)"
   ]
  },
  {
   "cell_type": "code",
   "execution_count": null,
   "metadata": {},
   "outputs": [],
   "source": []
  }
 ],
 "metadata": {
  "kernelspec": {
   "display_name": "car",
   "language": "python",
   "name": "python3"
  },
  "language_info": {
   "codemirror_mode": {
    "name": "ipython",
    "version": 3
   },
   "file_extension": ".py",
   "mimetype": "text/x-python",
   "name": "python",
   "nbconvert_exporter": "python",
   "pygments_lexer": "ipython3",
   "version": "3.8.16"
  }
 },
 "nbformat": 4,
 "nbformat_minor": 2
}
